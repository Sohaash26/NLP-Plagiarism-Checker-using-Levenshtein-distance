{
 "cells": [
  {
   "cell_type": "code",
   "execution_count": 1,
   "metadata": {
    "id": "98G-0tB4IiEU"
   },
   "outputs": [],
   "source": [
    "import torch\n",
    "import torch.nn as nn\n",
    "import pandas as pd\n",
    "import numpy as np"
   ]
  },
  {
   "cell_type": "code",
   "execution_count": 2,
   "metadata": {
    "id": "6rG-fWWsLzHl"
   },
   "outputs": [],
   "source": [
    "df = pd.read_csv('data.csv')"
   ]
  },
  {
   "cell_type": "code",
   "execution_count": 3,
   "metadata": {
    "id": "_oTUdPj9Mk2N"
   },
   "outputs": [],
   "source": [
    "sentence_1_text=df['sentence1'][:100].tolist()\n",
    "sentence_2_text=df['sentence2'][:100].tolist()"
   ]
  },
  {
   "cell_type": "code",
   "execution_count": 4,
   "metadata": {
    "id": "JIacZjIuMz6K"
   },
   "outputs": [],
   "source": [
    "corpus=sentence_1_text+sentence_2_text"
   ]
  },
  {
   "cell_type": "code",
   "execution_count": 5,
   "metadata": {
    "id": "73GWMu8iPnPQ"
   },
   "outputs": [],
   "source": [
    "words = \" \".join(corpus).split()\n",
    "vocab = list(set(words))\n",
    "word_to_ix = {word: idx for idx, word in enumerate(vocab)}\n",
    "ix_to_word = {idx: word for word, idx in word_to_ix.items()}\n",
    "vocab_size=len(vocab)\n",
    "CONTEXT_SIZE = 2  # 2 words to the left, 2 to the right\n",
    "EMDEDDING_DIM = 10"
   ]
  },
  {
   "cell_type": "code",
   "execution_count": 6,
   "metadata": {
    "colab": {
     "base_uri": "https://localhost:8080/"
    },
    "id": "Ho96pj5GQMus",
    "outputId": "3345413f-5f67-4031-af79-91ba2a58e3b5"
   },
   "outputs": [
    {
     "name": "stdout",
     "output_type": "stream",
     "text": [
      "[(['paris', 'october', 'secretly', 'met'], '1560'), (['october', '1560', 'met', 'english'], 'secretly'), (['1560', 'secretly', 'english', 'ambassador'], 'met'), (['secretly', 'met', 'ambassador', 'nicolas'], 'english'), (['met', 'english', 'nicolas', 'throckmorton'], 'ambassador')]\n"
     ]
    }
   ],
   "source": [
    "data = []\n",
    "for i in range(2, len(words) - 2):\n",
    "    context = [words[i - 2], words[i - 1], words[i + 1], words[i + 2]]\n",
    "    target = words[i]\n",
    "    data.append((context, target))\n",
    "print(data[:5])"
   ]
  },
  {
   "cell_type": "code",
   "execution_count": 7,
   "metadata": {
    "id": "GwBwRG_HIYBA"
   },
   "outputs": [],
   "source": [
    "\n",
    "\n",
    "def make_context_vector(context, word_to_ix):\n",
    "    idxs = [word_to_ix[w] for w in context]\n",
    "    return torch.tensor(idxs, dtype=torch.long)\n",
    "\n",
    "\n",
    "\n",
    "\n",
    "\n",
    "\n",
    "# By deriving a set from `raw_text`, we deduplicate the array\n",
    "\n",
    "\n",
    "\n",
    "\n",
    "\n",
    "\n",
    "\n",
    "\n",
    "\n",
    "\n",
    "\n",
    "\n"
   ]
  },
  {
   "cell_type": "code",
   "execution_count": 8,
   "metadata": {
    "id": "gDihad--ItEW"
   },
   "outputs": [],
   "source": [
    "class CBOW(torch.nn.Module):\n",
    "    def __init__(self, vocab_size, embedding_dim):\n",
    "        super(CBOW, self).__init__()\n",
    "\n",
    "        #out: 1 x emdedding_dim\n",
    "        self.embeddings = nn.Embedding(vocab_size, embedding_dim)\n",
    "        self.linear1 = nn.Linear(embedding_dim, 128)\n",
    "        self.activation_function1 = nn.ReLU()\n",
    "\n",
    "        #out: 1 x vocab_size\n",
    "        self.linear2 = nn.Linear(128, vocab_size)\n",
    "        self.activation_function2 = nn.LogSoftmax(dim = -1)\n",
    "\n",
    "\n",
    "    def forward(self, inputs):\n",
    "        embeds = sum(self.embeddings(inputs)).view(1,-1)\n",
    "        out = self.linear1(embeds)\n",
    "        out = self.activation_function1(out)\n",
    "        out = self.linear2(out)\n",
    "        out = self.activation_function2(out)\n",
    "        return out\n",
    "\n",
    "    def get_word_emdedding(self, word):\n",
    "        word = torch.tensor([word_to_ix[word]])\n",
    "        return self.embeddings(word).view(1,-1)"
   ]
  },
  {
   "cell_type": "code",
   "execution_count": 9,
   "metadata": {
    "id": "XAGnbk34Ivuq"
   },
   "outputs": [],
   "source": [
    "model = CBOW(vocab_size, EMDEDDING_DIM)\n",
    "\n",
    "loss_function = nn.NLLLoss()\n",
    "optimizer = torch.optim.SGD(model.parameters(), lr=0.001)"
   ]
  },
  {
   "cell_type": "code",
   "execution_count": 10,
   "metadata": {
    "id": "6gRun981I2HM"
   },
   "outputs": [],
   "source": [
    "\n",
    "\n",
    "#TRAINING\n",
    "for epoch in range(20):\n",
    "    total_loss = 0\n",
    "\n",
    "    for context, target in data:\n",
    "        context_vector = make_context_vector(context, word_to_ix)\n",
    "\n",
    "        log_probs = model(context_vector)\n",
    "\n",
    "        total_loss += loss_function(log_probs, torch.tensor([word_to_ix[target]]))\n",
    "\n",
    "    #optimize at the end of each epoch\n",
    "    optimizer.zero_grad()\n",
    "    total_loss.backward()\n",
    "    optimizer.step()"
   ]
  },
  {
   "cell_type": "code",
   "execution_count": 11,
   "metadata": {
    "id": "eEkMRpE-I_AZ"
   },
   "outputs": [],
   "source": [
    "\n",
    "#TESTING\n",
    "context = ['paris', 'october', 'secretly', 'met']\n",
    "context_vector = make_context_vector(context, word_to_ix)\n",
    "a = model(context_vector)\n"
   ]
  },
  {
   "cell_type": "code",
   "execution_count": 12,
   "metadata": {
    "colab": {
     "base_uri": "https://localhost:8080/"
    },
    "id": "NQ1yCyW2JBYU",
    "outputId": "5d39aff6-0eea-4edf-b38f-d42fab7b0a36"
   },
   "outputs": [
    {
     "name": "stdout",
     "output_type": "stream",
     "text": [
      "Context: ['paris', 'october', 'secretly', 'met']\n",
      "\n",
      "Prediction: born\n"
     ]
    }
   ],
   "source": [
    "#Print result\n",
    "\n",
    "print(f'Context: {context}\\n')\n",
    "print(f'Prediction: {ix_to_word[torch.argmax(a[0]).item()]}')"
   ]
  },
  {
   "cell_type": "code",
   "execution_count": 13,
   "metadata": {
    "id": "XlQa1FbPJpvZ"
   },
   "outputs": [],
   "source": [
    "t=model.get_word_emdedding(\"paris\")"
   ]
  },
  {
   "cell_type": "code",
   "execution_count": 14,
   "metadata": {
    "colab": {
     "base_uri": "https://localhost:8080/"
    },
    "id": "esvO1YYFSh47",
    "outputId": "df85bdfa-bb9a-4e92-dd1b-a497a0e1e016"
   },
   "outputs": [
    {
     "data": {
      "text/plain": [
       "torch.Tensor"
      ]
     },
     "execution_count": 14,
     "metadata": {},
     "output_type": "execute_result"
    }
   ],
   "source": [
    "type(t)"
   ]
  },
  {
   "cell_type": "code",
   "execution_count": 15,
   "metadata": {
    "colab": {
     "base_uri": "https://localhost:8080/"
    },
    "id": "oUf-qYvVJ8J_",
    "outputId": "4513e15e-d51b-448d-ac23-b7c1859a62f3"
   },
   "outputs": [
    {
     "data": {
      "text/plain": [
       "tensor([[-2.3689, -0.6885,  0.9433, -1.5555,  0.5560, -0.4342, -0.0408, -1.2490,\n",
       "         -0.0025,  0.4616]], grad_fn=<ViewBackward0>)"
      ]
     },
     "execution_count": 15,
     "metadata": {},
     "output_type": "execute_result"
    }
   ],
   "source": [
    "t"
   ]
  },
  {
   "cell_type": "code",
   "execution_count": 16,
   "metadata": {
    "id": "Rx6k548io9Co"
   },
   "outputs": [],
   "source": [
    "word_embeddings_dict = {}\n",
    "\n",
    "for word in vocab:\n",
    "    embedding = model.get_word_emdedding(word)\n",
    "    word_embeddings_dict[word] = embedding"
   ]
  },
  {
   "cell_type": "code",
   "execution_count": 17,
   "metadata": {
    "colab": {
     "base_uri": "https://localhost:8080/"
    },
    "id": "vaJ83AYTpOZb",
    "outputId": "623ece9e-8e5b-4e29-e150-2eb164bd89c6"
   },
   "outputs": [
    {
     "data": {
      "text/plain": [
       "tensor([[ 0.4788,  0.4711, -0.1946,  0.5628,  0.6132,  0.6614,  0.7245,  0.9574,\n",
       "         -1.5689, -0.5242]], grad_fn=<ViewBackward0>)"
      ]
     },
     "execution_count": 17,
     "metadata": {},
     "output_type": "execute_result"
    }
   ],
   "source": [
    "word_embeddings_dict[\"player\"]"
   ]
  },
  {
   "cell_type": "code",
   "execution_count": null,
   "metadata": {
    "id": "Z9T2Cf5oSYic"
   },
   "outputs": [],
   "source": []
  },
  {
   "cell_type": "code",
   "execution_count": 18,
   "metadata": {
    "colab": {
     "base_uri": "https://localhost:8080/"
    },
    "id": "WcXGCdEaSa_v",
    "outputId": "3dbeb493-ac7f-433e-b0a1-4c03319ce4f6"
   },
   "outputs": [
    {
     "data": {
      "text/plain": [
       "str"
      ]
     },
     "execution_count": 18,
     "metadata": {},
     "output_type": "execute_result"
    }
   ],
   "source": [
    "type(df[\"sentence1\"][1])"
   ]
  },
  {
   "cell_type": "code",
   "execution_count": 19,
   "metadata": {
    "id": "gFTk6-QNqNTG"
   },
   "outputs": [],
   "source": [
    "\n",
    "\n",
    "def get_document_embedding(sentence, embedding_dictionary):\n",
    "    words = sentence.split()\n",
    "    word_embeddings = []\n",
    "    for word in words:\n",
    "\n",
    "        word_embedd = embedding_dictionary[word]\n",
    "\n",
    "        word_embeddings.append(word_embedd)\n",
    "    document_embedding = torch.mean(torch.cat(word_embeddings, dim=0), dim=0)\n",
    "\n",
    "    return document_embedding\n"
   ]
  },
  {
   "cell_type": "code",
   "execution_count": 21,
   "metadata": {
    "colab": {
     "base_uri": "https://localhost:8080/"
    },
    "id": "PLgaTaJrqQlP",
    "outputId": "37611420-a98e-4dde-8b67-9a57115eb00a"
   },
   "outputs": [
    {
     "data": {
      "text/plain": [
       "tensor([-1.8012, -0.4952,  0.7508, -1.4469,  0.5266,  0.8998,  0.7528, -0.7879,\n",
       "         0.1887, -0.0351], grad_fn=<MeanBackward1>)"
      ]
     },
     "execution_count": 21,
     "metadata": {},
     "output_type": "execute_result"
    }
   ],
   "source": [
    "get_document_embedding(\"paris  nba\",word_embeddings_dict)"
   ]
  },
  {
   "cell_type": "code",
   "execution_count": 28,
   "metadata": {},
   "outputs": [],
   "source": [
    "# def levenshtein_similarity(embeddings1, embeddings2):\n",
    "#     sentence1 = ' '.join([str(embedding) for embedding in embeddings1])\n",
    "#     sentence2 = ' '.join([str(embedding) for embedding in embeddings2])\n",
    "#     lev_dist = levenshtein_distance(sentence1, sentence2)\n",
    "#     max_length = max(len(sentence1), len(sentence2))\n",
    "#     normalized_lev_dist = lev_dist / max_length\n",
    "#     similarity = 1 - normalized_lev_dist\n",
    "#     return similarity\n",
    "\n",
    "# similarity = levenshtein_similarity(embedding_dictionary, sentence2_embeddings)\n",
    "# print(\"Levenshtein Distance-based Similarity:\", similarity)\n"
   ]
  },
  {
   "cell_type": "code",
   "execution_count": 26,
   "metadata": {},
   "outputs": [],
   "source": [
    "from Levenshtein import distance as levenshtein_distance\n",
    "\n",
    "def levenshtein_similarity(sentence1, sentence2, embedding_dictionary):\n",
    "    embedding1 = get_document_embedding(sentence1, embedding_dictionary)\n",
    "    embedding2 = get_document_embedding(sentence2, embedding_dictionary)\n",
    "\n",
    "    if embedding1 is not None and embedding2 is not None:\n",
    "        lev_dist = levenshtein_distance(str(embedding1), str(embedding2))\n",
    "        max_length = max(len(str(embedding1)), len(str(embedding2)))\n",
    "        normalized_lev_dist = lev_dist / max_length\n",
    "        similarity = 1 - normalized_lev_dist\n",
    "        return similarity\n",
    "    else:\n",
    "        return 0 \n"
   ]
  },
  {
   "cell_type": "code",
   "execution_count": 27,
   "metadata": {},
   "outputs": [
    {
     "name": "stdout",
     "output_type": "stream",
     "text": [
      "Skip-gram Levenshtein Distance-based Similarity: 0.6705479452054794\n",
      "CBOW Levenshtein Distance-based Similarity: 0.6444223107569721\n"
     ]
    }
   ],
   "source": [
    "skipgram_similarity = levenshtein_similarity(sentence1, sentence2, skipgram_embedding_dictionary)\n",
    "cbow_similarity = levenshtein_similarity(sentence1, sentence2, cbow_embedding_dictionary)\n",
    "\n",
    "print(\"Skip-gram Levenshtein Distance-based Similarity:\", skipgram_similarity)\n",
    "print(\"CBOW Levenshtein Distance-based Similarity:\", cbow_similarity)"
   ]
  },
  {
   "cell_type": "code",
   "execution_count": null,
   "metadata": {},
   "outputs": [],
   "source": []
  },
  {
   "cell_type": "code",
   "execution_count": null,
   "metadata": {},
   "outputs": [],
   "source": []
  }
 ],
 "metadata": {
  "colab": {
   "provenance": []
  },
  "kernelspec": {
   "display_name": "Python 3 (ipykernel)",
   "language": "python",
   "name": "python3"
  },
  "language_info": {
   "codemirror_mode": {
    "name": "ipython",
    "version": 3
   },
   "file_extension": ".py",
   "mimetype": "text/x-python",
   "name": "python",
   "nbconvert_exporter": "python",
   "pygments_lexer": "ipython3",
   "version": "3.9.7"
  }
 },
 "nbformat": 4,
 "nbformat_minor": 1
}
